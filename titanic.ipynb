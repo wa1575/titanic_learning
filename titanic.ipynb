{
  "nbformat": 4,
  "nbformat_minor": 0,
  "metadata": {
    "colab": {
      "name": "titanic.ipynb",
      "private_outputs": true,
      "provenance": [],
      "collapsed_sections": [],
      "authorship_tag": "ABX9TyMu+N2Y55et2sVrI3yv15Py",
      "include_colab_link": true
    },
    "kernelspec": {
      "name": "python3",
      "display_name": "Python 3"
    },
    "accelerator": "GPU"
  },
  "cells": [
    {
      "cell_type": "markdown",
      "metadata": {
        "id": "view-in-github",
        "colab_type": "text"
      },
      "source": [
        "<a href=\"https://colab.research.google.com/github/wa1575/titanic_learning/blob/main/titanic.ipynb\" target=\"_parent\"><img src=\"https://colab.research.google.com/assets/colab-badge.svg\" alt=\"Open In Colab\"/></a>"
      ]
    },
    {
      "cell_type": "code",
      "metadata": {
        "id": "IV-g5CaYiW94"
      },
      "source": [
        "from google.colab import drive\r\n",
        "drive.mount('/gdrive/')"
      ],
      "execution_count": null,
      "outputs": []
    },
    {
      "cell_type": "code",
      "metadata": {
        "id": "BhgtHi2BlO7Q"
      },
      "source": [
        "import pandas as pd\r\n",
        "import numpy as np\r\n",
        "import matplotlib.pyplot as plt\r\n",
        "import seaborn as sns"
      ],
      "execution_count": null,
      "outputs": []
    },
    {
      "cell_type": "code",
      "metadata": {
        "id": "cSA1HWg8lvM1"
      },
      "source": [
        "drive_path = \"/gdrive/MyDrive/\"\r\n",
        "train = pd.read_csv(drive_path + \"titanic/train.csv\")\r\n",
        "test = pd.read_csv(drive_path + \"titanic/test.csv\")\r\n",
        "submission = pd.read_csv(drive_path + \"titanic/sample_submission.csv\")\r\n",
        "print(train.shape, test.shape, submission.shape)"
      ],
      "execution_count": null,
      "outputs": []
    },
    {
      "cell_type": "code",
      "metadata": {
        "id": "8n09R7qSmCGo"
      },
      "source": [
        "train.head(3)"
      ],
      "execution_count": null,
      "outputs": []
    },
    {
      "cell_type": "code",
      "metadata": {
        "id": "tX0Z0MRFmJPM"
      },
      "source": [
        "test.head(2)"
      ],
      "execution_count": null,
      "outputs": []
    },
    {
      "cell_type": "code",
      "metadata": {
        "id": "8u-BiIK5mXY9"
      },
      "source": [
        "submission.head()"
      ],
      "execution_count": null,
      "outputs": []
    },
    {
      "cell_type": "code",
      "metadata": {
        "id": "SxNMNhi2mlTy"
      },
      "source": [
        "train.info()"
      ],
      "execution_count": null,
      "outputs": []
    },
    {
      "cell_type": "code",
      "metadata": {
        "id": "ok1LHZpZmt8-"
      },
      "source": [
        "train.describe(include='all')"
      ],
      "execution_count": null,
      "outputs": []
    },
    {
      "cell_type": "code",
      "metadata": {
        "id": "lHZmm8LdnHxn"
      },
      "source": [
        "import missingno as msno\r\n",
        "msno.bar(train, figsize=(10,5), color=(0.7, 0.2, 0.2))\r\n",
        "plt.show()"
      ],
      "execution_count": null,
      "outputs": []
    },
    {
      "cell_type": "code",
      "metadata": {
        "id": "RXBR-egwnuyz"
      },
      "source": [
        "msno.matrix(test, figsize=(10,5), color=(0.7, 0.2, 0.2))\r\n",
        "plt.show()"
      ],
      "execution_count": null,
      "outputs": []
    },
    {
      "cell_type": "code",
      "metadata": {
        "id": "WVCUPe5en_MR"
      },
      "source": [
        "#숫자형 변수 간의 상관 관계를 계산하여 히트맵 그리기\r\n",
        "plt.figure(figsize=(8,8))\r\n",
        "sns.set(font_scale=0.8)\r\n",
        "sns.heatmap(train.corr(), annot = True, cbar=True);\r\n",
        "plt.show()"
      ],
      "execution_count": null,
      "outputs": []
    },
    {
      "cell_type": "code",
      "metadata": {
        "id": "yfmq9djSo8Ni"
      },
      "source": [
        "#타이타닉 전체 데이터셋 준비\r\n",
        "train['TrainSplit'] = 'Train'\r\n",
        "test['TrainSplit'] = 'Test'\r\n",
        "data = pd.concat([train,test], axis=0)\r\n",
        "print(data.shape)"
      ],
      "execution_count": null,
      "outputs": []
    },
    {
      "cell_type": "code",
      "metadata": {
        "id": "X_Gmxq8tpxea"
      },
      "source": [
        "#숫자형 피처 추출\r\n",
        "data_num = data.loc[:,['Pclass', 'Age','SibSp', 'Parch', 'Fare','Survived']]\r\n",
        "\r\n",
        "#결측값 대체\r\n",
        "data_num['Age'] = data_num['Age'].fillna(data_num['Age'].mean())\r\n",
        "data_num['Fare'] = data_num['Fare'].fillna(data_num['Fare'].mode()[0])\r\n",
        "\r\n",
        "#학습용 데이터와 예측 대상인 테스트 데이터 구분\r\n",
        "selected_features = ['Pclass', 'Age', 'SibSp', 'Parch', 'Fare']\r\n",
        "x_train = data_num.loc[data['TrainSplit']=='Train', selected_features]\r\n",
        "y_train = data_num.loc[data['TrainSplit']=='Train', 'Survived']\r\n",
        "\r\n",
        "x_test = data_num.loc[data['TrainSplit']=='Test', selected_features]\r\n",
        "\r\n",
        "print(\"Train 데이터셋 크기:\", x_train.shape, y_train.shape)\r\n",
        "print(\"Test 데이터셋 크기:\", x_test.shape)"
      ],
      "execution_count": null,
      "outputs": []
    },
    {
      "cell_type": "code",
      "metadata": {
        "id": "0Ma9WDknsGSi"
      },
      "source": [
        "#훈련 - 검증 데이터 분할\r\n",
        "from sklearn.model_selection import train_test_split\r\n",
        "x_tr, x_val, y_tr, y_val = train_test_split(x_train, y_train, test_size = 0.2,\r\n",
        "                                            shuffle=True, random_state=20)\r\n",
        "\r\n",
        "#로지스틱 회귀 모델\r\n",
        "from sklearn.linear_model import LogisticRegression\r\n",
        "lr_model = LogisticRegression()\r\n",
        "lr_model.fit(x_tr, y_tr)\r\n",
        "y_val_pred = lr_model.predict(x_val)\r\n",
        "\r\n",
        "#Confusion Matrix\r\n",
        "from sklearn.metrics import confusion_matrix\r\n",
        "sns.heatmap(confusion_matrix(y_val, y_val_pred), annot = True, cbar = False,\r\n",
        "            square=True)\r\n",
        "plt.show()"
      ],
      "execution_count": null,
      "outputs": []
    },
    {
      "cell_type": "code",
      "metadata": {
        "id": "gCusI20Tt8pZ"
      },
      "source": [
        "#평가지표\r\n",
        "from sklearn.metrics import accuracy_score, precision_score, recall_score\r\n",
        "from sklearn.metrics import f1_score, roc_auc_score\r\n",
        "print(\"Accuracy:%.4f\" % accuracy_score(y_val, y_val_pred))\r\n",
        "print(\"Precision:%.4f\" % precision_score(y_val, y_val_pred))\r\n",
        "print(\"Recall:%.4f\" % recall_score(y_val, y_val_pred))\r\n",
        "print(\"F1:%.4f\" % f1_score(y_val, y_val_pred))\r\n",
        "print(\"AUC:%.4f\" % roc_auc_score(y_val, y_val_pred))"
      ],
      "execution_count": null,
      "outputs": []
    },
    {
      "cell_type": "code",
      "metadata": {
        "id": "IIR9k9VwwBNY"
      },
      "source": [
        "#test 데이터에 대한 예측값 정리 \r\n",
        "y_test_pred = lr_model.predict(x_test)\r\n",
        "\r\n",
        "#제출양식에 맞게 정리\r\n",
        "submission['Survived'] = y_test_pred.astype(int)\r\n",
        "\r\n",
        "#제출 파일 저장\r\n",
        "submission_filepath = drive_path + 'baseline_num_lr_submission_001.csv'\r\n",
        "submission.to_csv(submission_filepath, index=False)\r\n",
        "submission.head(5)"
      ],
      "execution_count": null,
      "outputs": []
    }
  ]
}